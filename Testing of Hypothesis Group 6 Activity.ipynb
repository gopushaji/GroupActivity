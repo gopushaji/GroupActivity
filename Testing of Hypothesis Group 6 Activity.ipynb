{
 "cells": [
  {
   "cell_type": "code",
   "execution_count": 1,
   "id": "bd4fade5",
   "metadata": {},
   "outputs": [],
   "source": [
    "import numpy as np\n",
    "import pandas as pd\n",
    "from scipy import stats\n",
    "import seaborn as sns"
   ]
  },
  {
   "cell_type": "code",
   "execution_count": 2,
   "id": "d0181fe9",
   "metadata": {},
   "outputs": [
    {
     "data": {
      "text/html": [
       "<div>\n",
       "<style scoped>\n",
       "    .dataframe tbody tr th:only-of-type {\n",
       "        vertical-align: middle;\n",
       "    }\n",
       "\n",
       "    .dataframe tbody tr th {\n",
       "        vertical-align: top;\n",
       "    }\n",
       "\n",
       "    .dataframe thead th {\n",
       "        text-align: right;\n",
       "    }\n",
       "</style>\n",
       "<table border=\"1\" class=\"dataframe\">\n",
       "  <thead>\n",
       "    <tr style=\"text-align: right;\">\n",
       "      <th></th>\n",
       "      <th>Gender</th>\n",
       "      <th>Test preparation</th>\n",
       "      <th>Total Marks</th>\n",
       "    </tr>\n",
       "  </thead>\n",
       "  <tbody>\n",
       "    <tr>\n",
       "      <th>0</th>\n",
       "      <td>male</td>\n",
       "      <td>none</td>\n",
       "      <td>14</td>\n",
       "    </tr>\n",
       "    <tr>\n",
       "      <th>1</th>\n",
       "      <td>female</td>\n",
       "      <td>none</td>\n",
       "      <td>28</td>\n",
       "    </tr>\n",
       "    <tr>\n",
       "      <th>2</th>\n",
       "      <td>female</td>\n",
       "      <td>none</td>\n",
       "      <td>18</td>\n",
       "    </tr>\n",
       "    <tr>\n",
       "      <th>3</th>\n",
       "      <td>female</td>\n",
       "      <td>none</td>\n",
       "      <td>48</td>\n",
       "    </tr>\n",
       "    <tr>\n",
       "      <th>4</th>\n",
       "      <td>female</td>\n",
       "      <td>none</td>\n",
       "      <td>21</td>\n",
       "    </tr>\n",
       "  </tbody>\n",
       "</table>\n",
       "</div>"
      ],
      "text/plain": [
       "   Gender Test preparation  Total Marks\n",
       "0    male             none           14\n",
       "1  female             none           28\n",
       "2  female             none           18\n",
       "3  female             none           48\n",
       "4  female             none           21"
      ]
     },
     "execution_count": 2,
     "metadata": {},
     "output_type": "execute_result"
    }
   ],
   "source": [
    "data= pd.read_csv('G:\\DSA\\Activity\\week8_activity.csv')\n",
    "data.head()"
   ]
  },
  {
   "cell_type": "code",
   "execution_count": 3,
   "id": "b0d50438",
   "metadata": {
    "scrolled": true
   },
   "outputs": [
    {
     "data": {
      "text/html": [
       "<div>\n",
       "<style scoped>\n",
       "    .dataframe tbody tr th:only-of-type {\n",
       "        vertical-align: middle;\n",
       "    }\n",
       "\n",
       "    .dataframe tbody tr th {\n",
       "        vertical-align: top;\n",
       "    }\n",
       "\n",
       "    .dataframe thead th {\n",
       "        text-align: right;\n",
       "    }\n",
       "</style>\n",
       "<table border=\"1\" class=\"dataframe\">\n",
       "  <thead>\n",
       "    <tr style=\"text-align: right;\">\n",
       "      <th></th>\n",
       "      <th>Total Marks</th>\n",
       "    </tr>\n",
       "  </thead>\n",
       "  <tbody>\n",
       "    <tr>\n",
       "      <th>count</th>\n",
       "      <td>28.000000</td>\n",
       "    </tr>\n",
       "    <tr>\n",
       "      <th>mean</th>\n",
       "      <td>32.321429</td>\n",
       "    </tr>\n",
       "    <tr>\n",
       "      <th>std</th>\n",
       "      <td>12.454520</td>\n",
       "    </tr>\n",
       "    <tr>\n",
       "      <th>min</th>\n",
       "      <td>12.000000</td>\n",
       "    </tr>\n",
       "    <tr>\n",
       "      <th>25%</th>\n",
       "      <td>22.500000</td>\n",
       "    </tr>\n",
       "    <tr>\n",
       "      <th>50%</th>\n",
       "      <td>33.000000</td>\n",
       "    </tr>\n",
       "    <tr>\n",
       "      <th>75%</th>\n",
       "      <td>43.250000</td>\n",
       "    </tr>\n",
       "    <tr>\n",
       "      <th>max</th>\n",
       "      <td>50.000000</td>\n",
       "    </tr>\n",
       "  </tbody>\n",
       "</table>\n",
       "</div>"
      ],
      "text/plain": [
       "       Total Marks\n",
       "count    28.000000\n",
       "mean     32.321429\n",
       "std      12.454520\n",
       "min      12.000000\n",
       "25%      22.500000\n",
       "50%      33.000000\n",
       "75%      43.250000\n",
       "max      50.000000"
      ]
     },
     "execution_count": 3,
     "metadata": {},
     "output_type": "execute_result"
    }
   ],
   "source": [
    "data.describe()"
   ]
  },
  {
   "cell_type": "code",
   "execution_count": 4,
   "id": "4c764f55",
   "metadata": {},
   "outputs": [
    {
     "data": {
      "text/plain": [
       "(28, 3)"
      ]
     },
     "execution_count": 4,
     "metadata": {},
     "output_type": "execute_result"
    }
   ],
   "source": [
    "data.shape"
   ]
  },
  {
   "cell_type": "markdown",
   "id": "985b944f",
   "metadata": {},
   "source": [
    "The number of observations in the sample is less than 30 numbers . So T test can be used for hypothesis testing"
   ]
  },
  {
   "cell_type": "markdown",
   "id": "5e0fefec",
   "metadata": {},
   "source": [
    "# Question 2"
   ]
  },
  {
   "cell_type": "markdown",
   "id": "da36d717",
   "metadata": {},
   "source": [
    "Null Hypothesis(H0):There is no significant difference in the marks scored by male and female students\n",
    "\n",
    "Alternate Hypothesis(Ha): There is significant difference in the marks scored by male and female students"
   ]
  },
  {
   "cell_type": "markdown",
   "id": "6edb4912",
   "metadata": {},
   "source": [
    "Level of Significance set to 5%"
   ]
  },
  {
   "cell_type": "code",
   "execution_count": 5,
   "id": "a5c22626",
   "metadata": {},
   "outputs": [],
   "source": [
    "grouped1=data.groupby('Gender')\n",
    "male_scores= grouped1.get_group('male')['Total Marks'].values\n",
    "female_scores=grouped1.get_group('female')['Total Marks'].values"
   ]
  },
  {
   "cell_type": "code",
   "execution_count": 6,
   "id": "f1d517d8",
   "metadata": {},
   "outputs": [
    {
     "data": {
      "text/plain": [
       "0.4937822317960763"
      ]
     },
     "execution_count": 6,
     "metadata": {},
     "output_type": "execute_result"
    }
   ],
   "source": [
    "t_test_stat, p_value =stats.ttest_ind(female_scores,male_scores,alternative='two-sided')\n",
    "p_value"
   ]
  },
  {
   "cell_type": "markdown",
   "id": "d414bbad",
   "metadata": {},
   "source": [
    "Since the p value is greater than the significance level of 0.05, we accept the null hypothesis i.e\n",
    "\n",
    "There is There is no significant difference in the marks scored by male and female students"
   ]
  },
  {
   "cell_type": "markdown",
   "id": "ed1d2b27",
   "metadata": {},
   "source": [
    "# Question 3"
   ]
  },
  {
   "cell_type": "markdown",
   "id": "8afb8c10",
   "metadata": {},
   "source": [
    "Null Hypothesis(H0):There is no effects brought about by the test preparation in the student marks\n",
    "\n",
    "Alternate Hypothesis(Ha): The test preparation has affected the marks scored by students"
   ]
  },
  {
   "cell_type": "markdown",
   "id": "242d57e9",
   "metadata": {},
   "source": [
    "Level of Significance set to 5%"
   ]
  },
  {
   "cell_type": "code",
   "execution_count": 7,
   "id": "bffd0fed",
   "metadata": {},
   "outputs": [],
   "source": [
    "grouped1=data.groupby('Test preparation')\n",
    "completed= grouped1.get_group('completed')['Total Marks'].values\n",
    "not_comp=grouped1.get_group('none')['Total Marks'].values"
   ]
  },
  {
   "cell_type": "code",
   "execution_count": 8,
   "id": "e015a43a",
   "metadata": {},
   "outputs": [
    {
     "data": {
      "text/plain": [
       "0.0006335646228660053"
      ]
     },
     "execution_count": 8,
     "metadata": {},
     "output_type": "execute_result"
    }
   ],
   "source": [
    "t_test_stat, p_value =stats.ttest_ind(completed,not_comp,alternative='greater')\n",
    "p_value"
   ]
  },
  {
   "cell_type": "markdown",
   "id": "0774dca1",
   "metadata": {},
   "source": [
    "Since the p value = 0.006 is less than the significance level of 0.05, we reject the null hypothesis i.e\n",
    "\n",
    "The test prepatation has had effect on the student marks and the average marks of students who completed \n",
    "the test preparation is observed to be greater than that of the other students"
   ]
  },
  {
   "cell_type": "code",
   "execution_count": null,
   "id": "4083d4d1",
   "metadata": {},
   "outputs": [],
   "source": []
  }
 ],
 "metadata": {
  "kernelspec": {
   "display_name": "Python 3",
   "language": "python",
   "name": "python3"
  },
  "language_info": {
   "codemirror_mode": {
    "name": "ipython",
    "version": 3
   },
   "file_extension": ".py",
   "mimetype": "text/x-python",
   "name": "python",
   "nbconvert_exporter": "python",
   "pygments_lexer": "ipython3",
   "version": "3.8.8"
  }
 },
 "nbformat": 4,
 "nbformat_minor": 5
}
