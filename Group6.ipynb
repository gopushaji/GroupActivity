{
 "cells": [
  {
   "cell_type": "markdown",
   "metadata": {
    "id": "4z_Z-K1tlrS7"
   },
   "source": [
    "## 1. Complete the following code to find the area of an equilateral triangle. Output should be as displayed"
   ]
  },
  {
   "cell_type": "code",
   "execution_count": 59,
   "metadata": {
    "id": "rP2qFD_SlrS_"
   },
   "outputs": [
    {
     "name": "stdout",
     "output_type": "stream",
     "text": [
      "Enter the side of the equilateral triangle: 5.6\n",
      "Area of the triangle= 13.579278331339996\n"
     ]
    }
   ],
   "source": [
    "import math\n",
    "side = float(input(\"Enter the side of the equilateral triangle: \"))\n",
    "area = ((math.sqrt(3))/4)*pow(side,2)\n",
    "print('Area of the triangle=', area)\n"
   ]
  },
  {
   "cell_type": "markdown",
   "metadata": {
    "id": "TjVKjIfclrTB"
   },
   "source": [
    "## 2. Write a program to count the number of each characters in a string"
   ]
  },
  {
   "cell_type": "code",
   "execution_count": 60,
   "metadata": {
    "id": "JY5seVUQlrTC"
   },
   "outputs": [
    {
     "name": "stdout",
     "output_type": "stream",
     "text": [
      "Enter the string:Adidas Sport\n",
      "{'A': 2, 'D': 2, 'I': 1, 'S': 2, ' ': 1, 'P': 1, 'O': 1, 'R': 1, 'T': 1}\n"
     ]
    }
   ],
   "source": [
    "sample_string = input(\"Enter the string:\")\n",
    "sample_string_normalised = sample_string.upper()\n",
    "count_dict={}\n",
    "for i in sample_string_normalised:\n",
    "    count=sample_string_normalised.count(i)\n",
    "    if i not in count_dict:\n",
    "        count_dict[i]=count\n",
    "print (count_dict)\n",
    "    "
   ]
  },
  {
   "cell_type": "markdown",
   "metadata": {
    "id": "l3LCULfklrTD"
   },
   "source": [
    "## Write a program to find the area and perimeter of a rectangle using functions"
   ]
  },
  {
   "cell_type": "code",
   "execution_count": 4,
   "metadata": {
    "id": "8haQD8edlrTD"
   },
   "outputs": [
    {
     "name": "stdout",
     "output_type": "stream",
     "text": [
      "Enter length5.6\n",
      "Enter width7.4\n",
      "Area= 41.44 sq.units\n",
      "Perimeter= 26.0 units\n"
     ]
    }
   ],
   "source": [
    "def area_perimeter(length, width):\n",
    "    a=length*width\n",
    "    p=2*(length+width)\n",
    "    return (a,p)\n",
    "l= float(input(\"Enter length\"))\n",
    "b= float(input(\"Enter width\"))\n",
    "area,perimeter=area_perimeter(l,b)\n",
    "print('Area=',area,'sq.units')\n",
    "print('Perimeter=',perimeter,'units')\n"
   ]
  },
  {
   "cell_type": "markdown",
   "metadata": {
    "id": "JHK4ZdsflrTE"
   },
   "source": [
    "## 4. Write a program to print the fibonacci series till a specified number"
   ]
  },
  {
   "cell_type": "code",
   "execution_count": 13,
   "metadata": {
    "id": "LyBEj-4SlrTE"
   },
   "outputs": [
    {
     "name": "stdout",
     "output_type": "stream",
     "text": [
      "Enter the limit for series(>0): 30\n",
      "0  1  1  2  3  5  8  13  21  "
     ]
    }
   ],
   "source": [
    "limit= int(input(\"Enter the limit for series(>0): \"))\n",
    "p,q = -1,1\n",
    "while (p+q)<=limit:\n",
    "    print(p+q,end='  ')\n",
    "    p,q=q,p+q\n",
    "    "
   ]
  },
  {
   "cell_type": "markdown",
   "metadata": {
    "id": "u4uBUcQKlrTE"
   },
   "source": [
    "## 5. Complete the following code to find the minimum of 3 number using cinditional statements. Output should be as displayed"
   ]
  },
  {
   "cell_type": "code",
   "execution_count": 28,
   "metadata": {
    "id": "XdZwrZjIlrTF"
   },
   "outputs": [
    {
     "name": "stdout",
     "output_type": "stream",
     "text": [
      "Enter three numbers followed by  : 7 25 10\n",
      "First number : 7\n",
      "Second number : 25\n",
      "Third number : 10\n",
      "7  is smallest\n"
     ]
    }
   ],
   "source": [
    "a,b,c = input(\"Enter three numbers followed by  : \").split()\n",
    "a=int(a)\n",
    "b=int(b)\n",
    "c=int(c)\n",
    "print(\"First number :\",a)\n",
    "print(\"Second number :\",b)\n",
    "print(\"Third number :\",c)\n",
    "if(a==b==c):\n",
    "    print(\"Entered numbers are equal!!!\")\n",
    "elif(a<b and a<c):\n",
    "    print(a,\" is smallest\")\n",
    "elif(b<a and b<c):\n",
    "    print(b,\" is smallest\")\n",
    "else:\n",
    "    print(c,\" is smallest\")"
   ]
  },
  {
   "cell_type": "markdown",
   "metadata": {
    "id": "aR_CnToWlrTG"
   },
   "source": [
    "## 6. Write a program to print star pyramind. The number of rows should be taken as input from the user"
   ]
  },
  {
   "cell_type": "code",
   "execution_count": 30,
   "metadata": {
    "id": "M37A-buplrTG"
   },
   "outputs": [
    {
     "name": "stdout",
     "output_type": "stream",
     "text": [
      "Enter the number of rows(>0): 10\n",
      "         * \n",
      "        * * \n",
      "       * * * \n",
      "      * * * * \n",
      "     * * * * * \n",
      "    * * * * * * \n",
      "   * * * * * * * \n",
      "  * * * * * * * * \n",
      " * * * * * * * * * \n",
      "* * * * * * * * * * \n"
     ]
    }
   ],
   "source": [
    "rows = int(input(\"Enter the number of rows(>0): \"))\n",
    "for i in range(1,rows+1):\n",
    "    print(' '*(rows-i), end='')\n",
    "    print('* '*i)"
   ]
  },
  {
   "cell_type": "markdown",
   "metadata": {
    "id": "tlY6aFWBlrTH"
   },
   "source": [
    "## 7. Complete the following code to convert hour into seconds. Output should be as displayed"
   ]
  },
  {
   "cell_type": "code",
   "execution_count": 46,
   "metadata": {
    "id": "YOZQFk7FlrTH"
   },
   "outputs": [
    {
     "name": "stdout",
     "output_type": "stream",
     "text": [
      "Enter hour minute and seconds seperated by a white space 1 5 8\n",
      "1 5 8  Hour is equal to 3908  Seconds\n"
     ]
    }
   ],
   "source": [
    "def to_seconds(t):\n",
    "    h,m,s=int(t[0]),int(t[1]),int(t[2])\n",
    "    return ((h*3600)+(m*60)+s)\n",
    "time_in_hours = input(\"Enter hour minute and seconds seperated by a white space \").split()\n",
    "print(*time_in_hours ,\" Hour is equal to\" ,to_seconds(time_in_hours) ,\" Seconds\")"
   ]
  },
  {
   "cell_type": "markdown",
   "metadata": {
    "id": "CnYorNiLlrTI"
   },
   "source": [
    "## 8. Write a program to print multiplication table as below"
   ]
  },
  {
   "cell_type": "code",
   "execution_count": 50,
   "metadata": {
    "id": "dPQqDPuDlrTI"
   },
   "outputs": [
    {
     "name": "stdout",
     "output_type": "stream",
     "text": [
      "Enter the number3\n",
      "Enter the number of rows12\n",
      "1 \t*\t 3 \t= 3\n",
      "2 \t*\t 3 \t= 6\n",
      "3 \t*\t 3 \t= 9\n",
      "4 \t*\t 3 \t= 12\n",
      "5 \t*\t 3 \t= 15\n",
      "6 \t*\t 3 \t= 18\n",
      "7 \t*\t 3 \t= 21\n",
      "8 \t*\t 3 \t= 24\n",
      "9 \t*\t 3 \t= 27\n",
      "10 \t*\t 3 \t= 30\n",
      "11 \t*\t 3 \t= 33\n",
      "12 \t*\t 3 \t= 36\n"
     ]
    }
   ],
   "source": [
    "number = int(input(\"Enter the number\"))\n",
    "rows = int(input(\"Enter the number of rows\"))\n",
    "for i in range(1,rows+1):\n",
    "    print(i,'\\t*\\t', number,'\\t=', i*number)"
   ]
  },
  {
   "cell_type": "markdown",
   "metadata": {
    "id": "Fiaez8iblrTI"
   },
   "source": [
    "## 9. Write a program to take your 5 favorite food as list and print each as 'I like Biriyani'"
   ]
  },
  {
   "cell_type": "code",
   "execution_count": 57,
   "metadata": {
    "id": "39W1zFX7lrTJ"
   },
   "outputs": [
    {
     "name": "stdout",
     "output_type": "stream",
     "text": [
      "Enter food A\n",
      "Enter food B\n",
      "Enter food C\n",
      "Enter food D\n",
      "Enter food E\n",
      "I like  A\n",
      "I like  B\n",
      "I like  C\n",
      "I like  D\n",
      "I like  E\n"
     ]
    }
   ],
   "source": [
    "food_list=['','','','','']\n",
    "for i in range(0,5):\n",
    "    food_list[i]=input(\"Enter food \")\n",
    "for food in food_list:\n",
    "    print(\"I like \", food)"
   ]
  },
  {
   "cell_type": "markdown",
   "metadata": {
    "id": "3vlcDNNEP7d_"
   },
   "source": [
    "## 10. Find error(s) in the following code(if any) and rewrite code.\n",
    "\n"
   ]
  },
  {
   "cell_type": "code",
   "execution_count": null,
   "metadata": {
    "id": "coREkcY3P9sG"
   },
   "outputs": [],
   "source": [
    "x= int(“Enter value of x:”)\n",
    "for in range [0,10]:\n",
    "     if x=y\n",
    "          print(\"They are equal\")\n",
    "     else:\n",
    "         Print( \"They are unequal\")"
   ]
  },
  {
   "cell_type": "code",
   "execution_count": 58,
   "metadata": {},
   "outputs": [
    {
     "name": "stdout",
     "output_type": "stream",
     "text": [
      "Enter value of x: 6\n",
      "They are unequal\n",
      "They are unequal\n",
      "They are unequal\n",
      "They are unequal\n",
      "They are unequal\n",
      "They are unequal\n",
      "They are equal\n",
      "They are unequal\n",
      "They are unequal\n",
      "They are unequal\n"
     ]
    }
   ],
   "source": [
    "x= int(input(\"Enter value of x: \"))\n",
    "for y in range(0,10):\n",
    "    if x==y:\n",
    "        print(\"They are equal\")\n",
    "    else:\n",
    "        print(\"They are unequal\")"
   ]
  },
  {
   "cell_type": "code",
   "execution_count": null,
   "metadata": {},
   "outputs": [],
   "source": []
  },
  {
   "cell_type": "code",
   "execution_count": null,
   "metadata": {},
   "outputs": [],
   "source": []
  }
 ],
 "metadata": {
  "colab": {
   "collapsed_sections": [],
   "name": "Q&A activity student file.ipynb",
   "provenance": []
  },
  "kernelspec": {
   "display_name": "Python 3",
   "language": "python",
   "name": "python3"
  },
  "language_info": {
   "codemirror_mode": {
    "name": "ipython",
    "version": 3
   },
   "file_extension": ".py",
   "mimetype": "text/x-python",
   "name": "python",
   "nbconvert_exporter": "python",
   "pygments_lexer": "ipython3",
   "version": "3.8.8"
  }
 },
 "nbformat": 4,
 "nbformat_minor": 1
}
